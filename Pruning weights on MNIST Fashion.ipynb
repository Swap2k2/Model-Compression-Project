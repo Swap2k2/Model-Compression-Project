{
 "cells": [
  {
   "cell_type": "code",
   "execution_count": 1,
   "id": "caccf388",
   "metadata": {},
   "outputs": [],
   "source": [
    "import tensorflow as tf\n",
    "from tensorflow.keras.datasets import fashion_mnist\n",
    "\n",
    "import numpy as np"
   ]
  },
  {
   "cell_type": "code",
   "execution_count": 2,
   "id": "82171f1b",
   "metadata": {},
   "outputs": [],
   "source": [
    "(x_train, y_train), (x_test, y_test) = fashion_mnist.load_data()"
   ]
  },
  {
   "cell_type": "code",
   "execution_count": 3,
   "id": "174abedb",
   "metadata": {},
   "outputs": [
    {
     "data": {
      "text/plain": [
       "(60000, 28, 28)"
      ]
     },
     "execution_count": 3,
     "metadata": {},
     "output_type": "execute_result"
    }
   ],
   "source": [
    "x_train.shape"
   ]
  },
  {
   "cell_type": "code",
   "execution_count": 4,
   "id": "b27be324",
   "metadata": {},
   "outputs": [],
   "source": [
    "x_train = x_train.reshape(-1, 784) / 255.0  \n",
    "x_test = x_test.reshape(-1, 784) / 255.0"
   ]
  },
  {
   "cell_type": "code",
   "execution_count": 5,
   "id": "86d7d18d",
   "metadata": {},
   "outputs": [],
   "source": [
    "model = tf.keras.models.Sequential([\n",
    "    tf.keras.layers.Dense(256, activation='relu', input_shape=(784,)),\n",
    "    tf.keras.layers.Dense(128, activation='relu'),\n",
    "    tf.keras.layers.Dense(64, activation='relu'),\n",
    "    tf.keras.layers.Dense(32, activation='relu'),\n",
    "    tf.keras.layers.Dense(10, activation='softmax')\n",
    "])"
   ]
  },
  {
   "cell_type": "code",
   "execution_count": 6,
   "id": "e241b391",
   "metadata": {},
   "outputs": [],
   "source": [
    "model.compile(optimizer='adam', loss='sparse_categorical_crossentropy', metrics=['accuracy'])"
   ]
  },
  {
   "cell_type": "code",
   "execution_count": 7,
   "id": "ab66591a",
   "metadata": {},
   "outputs": [
    {
     "name": "stdout",
     "output_type": "stream",
     "text": [
      "Epoch 1/5\n",
      "938/938 [==============================] - 5s 4ms/step - loss: 0.5194 - accuracy: 0.8135 - val_loss: 0.4109 - val_accuracy: 0.8544\n",
      "Epoch 2/5\n",
      "938/938 [==============================] - 3s 3ms/step - loss: 0.3722 - accuracy: 0.8643 - val_loss: 0.4197 - val_accuracy: 0.8409\n",
      "Epoch 3/5\n",
      "938/938 [==============================] - 3s 3ms/step - loss: 0.3349 - accuracy: 0.8767 - val_loss: 0.3755 - val_accuracy: 0.8660\n",
      "Epoch 4/5\n",
      "938/938 [==============================] - 3s 3ms/step - loss: 0.3118 - accuracy: 0.8835 - val_loss: 0.3450 - val_accuracy: 0.8739\n",
      "Epoch 5/5\n",
      "938/938 [==============================] - 4s 4ms/step - loss: 0.2923 - accuracy: 0.8915 - val_loss: 0.3361 - val_accuracy: 0.8780\n"
     ]
    },
    {
     "data": {
      "text/plain": [
       "<keras.callbacks.History at 0x2a639613520>"
      ]
     },
     "execution_count": 7,
     "metadata": {},
     "output_type": "execute_result"
    }
   ],
   "source": [
    "model.fit(x_train, y_train, epochs=5, batch_size=64, validation_data=(x_test, y_test))"
   ]
  },
  {
   "cell_type": "code",
   "execution_count": 8,
   "id": "a40498b0",
   "metadata": {},
   "outputs": [],
   "source": [
    "def prune_weights(model, threshold):\n",
    "    pruned_model = tf.keras.models.clone_model(model)\n",
    "    pruned_model.set_weights(model.get_weights())  # Copy the original weights\n",
    "\n",
    "    # Prune the weights below the threshold\n",
    "    for layer in pruned_model.layers:\n",
    "        if isinstance(layer, tf.keras.layers.Dense):\n",
    "            weights = layer.get_weights()\n",
    "            weights[0][weights[0] < threshold] = 0.0  # Prune weights below threshold\n",
    "            layer.set_weights(weights)\n",
    "    \n",
    "    return pruned_model\n"
   ]
  },
  {
   "cell_type": "code",
   "execution_count": 15,
   "id": "06eb65ae",
   "metadata": {},
   "outputs": [],
   "source": [
    "\n",
    "thresholds = [ -0.1, -0.2, -0.3, -0.5, -0.7,-1,0.0, 0.1, 0.2, 0.3, 0.5, 0.7,1]\n",
    "performance = []"
   ]
  },
  {
   "cell_type": "code",
   "execution_count": 16,
   "id": "b11c1524",
   "metadata": {},
   "outputs": [
    {
     "name": "stdout",
     "output_type": "stream",
     "text": [
      "Epoch 1/5\n",
      "938/938 [==============================] - 5s 5ms/step - loss: 0.8407 - accuracy: 0.8330 - val_loss: 0.3765 - val_accuracy: 0.8635\n",
      "Epoch 2/5\n",
      "938/938 [==============================] - 4s 5ms/step - loss: 0.3190 - accuracy: 0.8841 - val_loss: 0.3714 - val_accuracy: 0.8686\n",
      "Epoch 3/5\n",
      "938/938 [==============================] - 4s 4ms/step - loss: 0.2967 - accuracy: 0.8908 - val_loss: 0.3700 - val_accuracy: 0.8729\n",
      "Epoch 4/5\n",
      "938/938 [==============================] - 4s 4ms/step - loss: 0.2816 - accuracy: 0.8969 - val_loss: 0.3438 - val_accuracy: 0.8782\n",
      "Epoch 5/5\n",
      "938/938 [==============================] - 4s 4ms/step - loss: 0.2694 - accuracy: 0.8993 - val_loss: 0.3440 - val_accuracy: 0.8760\n",
      "313/313 [==============================] - 1s 4ms/step - loss: 0.3440 - accuracy: 0.8760\n",
      "Epoch 1/5\n",
      "938/938 [==============================] - 4s 4ms/step - loss: 0.3126 - accuracy: 0.8858 - val_loss: 0.3647 - val_accuracy: 0.8733\n",
      "Epoch 2/5\n",
      "938/938 [==============================] - 4s 4ms/step - loss: 0.2800 - accuracy: 0.8957 - val_loss: 0.3640 - val_accuracy: 0.8692\n",
      "Epoch 3/5\n",
      "938/938 [==============================] - 4s 4ms/step - loss: 0.2645 - accuracy: 0.9011 - val_loss: 0.3539 - val_accuracy: 0.8781\n",
      "Epoch 4/5\n",
      "938/938 [==============================] - 5s 5ms/step - loss: 0.2541 - accuracy: 0.9044 - val_loss: 0.3451 - val_accuracy: 0.8809\n",
      "Epoch 5/5\n",
      "938/938 [==============================] - 4s 5ms/step - loss: 0.2448 - accuracy: 0.9086 - val_loss: 0.3324 - val_accuracy: 0.8837\n",
      "313/313 [==============================] - 1s 3ms/step - loss: 0.3324 - accuracy: 0.8837\n",
      "Epoch 1/5\n",
      "938/938 [==============================] - 5s 5ms/step - loss: 0.2933 - accuracy: 0.8917 - val_loss: 0.3459 - val_accuracy: 0.8757\n",
      "Epoch 2/5\n",
      "938/938 [==============================] - 4s 4ms/step - loss: 0.2700 - accuracy: 0.8981 - val_loss: 0.3511 - val_accuracy: 0.8791\n",
      "Epoch 3/5\n",
      "938/938 [==============================] - 4s 4ms/step - loss: 0.2616 - accuracy: 0.9015 - val_loss: 0.3442 - val_accuracy: 0.8823\n",
      "Epoch 4/5\n",
      "938/938 [==============================] - 4s 4ms/step - loss: 0.2493 - accuracy: 0.9062 - val_loss: 0.3422 - val_accuracy: 0.8757\n",
      "Epoch 5/5\n",
      "938/938 [==============================] - 4s 4ms/step - loss: 0.2361 - accuracy: 0.9118 - val_loss: 0.3531 - val_accuracy: 0.8836\n",
      "313/313 [==============================] - 1s 3ms/step - loss: 0.3531 - accuracy: 0.8836\n",
      "Epoch 1/5\n",
      "938/938 [==============================] - 4s 4ms/step - loss: 0.2835 - accuracy: 0.8949 - val_loss: 0.3456 - val_accuracy: 0.8737\n",
      "Epoch 2/5\n",
      "938/938 [==============================] - 4s 4ms/step - loss: 0.2647 - accuracy: 0.9007 - val_loss: 0.3742 - val_accuracy: 0.8688\n",
      "Epoch 3/5\n",
      "938/938 [==============================] - 4s 4ms/step - loss: 0.2551 - accuracy: 0.9037 - val_loss: 0.3410 - val_accuracy: 0.8816\n",
      "Epoch 4/5\n",
      "938/938 [==============================] - 4s 4ms/step - loss: 0.2461 - accuracy: 0.9073 - val_loss: 0.3563 - val_accuracy: 0.8798\n",
      "Epoch 5/5\n",
      "938/938 [==============================] - 4s 4ms/step - loss: 0.2360 - accuracy: 0.9107 - val_loss: 0.3384 - val_accuracy: 0.8841\n",
      "313/313 [==============================] - 1s 3ms/step - loss: 0.3384 - accuracy: 0.8841\n",
      "Epoch 1/5\n",
      "938/938 [==============================] - 4s 4ms/step - loss: 0.2816 - accuracy: 0.8951 - val_loss: 0.3304 - val_accuracy: 0.8823\n",
      "Epoch 2/5\n",
      "938/938 [==============================] - 4s 4ms/step - loss: 0.2670 - accuracy: 0.9008 - val_loss: 0.3304 - val_accuracy: 0.8821\n",
      "Epoch 3/5\n",
      "938/938 [==============================] - 4s 5ms/step - loss: 0.2560 - accuracy: 0.9044 - val_loss: 0.3308 - val_accuracy: 0.8839\n",
      "Epoch 4/5\n",
      "938/938 [==============================] - 6s 6ms/step - loss: 0.2453 - accuracy: 0.9086 - val_loss: 0.3555 - val_accuracy: 0.8789\n",
      "Epoch 5/5\n",
      "938/938 [==============================] - 5s 5ms/step - loss: 0.2343 - accuracy: 0.9120 - val_loss: 0.3526 - val_accuracy: 0.8824\n",
      "313/313 [==============================] - 1s 3ms/step - loss: 0.3526 - accuracy: 0.8824\n",
      "Epoch 1/5\n",
      "938/938 [==============================] - 5s 5ms/step - loss: 0.2831 - accuracy: 0.8946 - val_loss: 0.3335 - val_accuracy: 0.8790\n",
      "Epoch 2/5\n",
      "938/938 [==============================] - 4s 4ms/step - loss: 0.2682 - accuracy: 0.8996 - val_loss: 0.3600 - val_accuracy: 0.8733\n",
      "Epoch 3/5\n",
      "938/938 [==============================] - 4s 4ms/step - loss: 0.2561 - accuracy: 0.9049 - val_loss: 0.3642 - val_accuracy: 0.8707\n",
      "Epoch 4/5\n",
      "938/938 [==============================] - 4s 4ms/step - loss: 0.2453 - accuracy: 0.9076 - val_loss: 0.3396 - val_accuracy: 0.8823\n",
      "Epoch 5/5\n",
      "938/938 [==============================] - 4s 4ms/step - loss: 0.2370 - accuracy: 0.9115 - val_loss: 0.3427 - val_accuracy: 0.8792\n",
      "313/313 [==============================] - 1s 3ms/step - loss: 0.3427 - accuracy: 0.8792\n",
      "Epoch 1/5\n",
      "938/938 [==============================] - 4s 4ms/step - loss: 6.5281 - accuracy: 0.7852 - val_loss: 0.4826 - val_accuracy: 0.8381\n",
      "Epoch 2/5\n",
      "938/938 [==============================] - 4s 4ms/step - loss: 0.4123 - accuracy: 0.8596 - val_loss: 0.4170 - val_accuracy: 0.8512\n",
      "Epoch 3/5\n",
      "938/938 [==============================] - 4s 4ms/step - loss: 0.3570 - accuracy: 0.8735 - val_loss: 0.3769 - val_accuracy: 0.8645\n",
      "Epoch 4/5\n",
      "938/938 [==============================] - 4s 4ms/step - loss: 0.3288 - accuracy: 0.8818 - val_loss: 0.3788 - val_accuracy: 0.8613\n",
      "Epoch 5/5\n",
      "938/938 [==============================] - 4s 4ms/step - loss: 0.3124 - accuracy: 0.8856 - val_loss: 0.3633 - val_accuracy: 0.8671\n",
      "313/313 [==============================] - 1s 2ms/step - loss: 0.3633 - accuracy: 0.8671\n",
      "Epoch 1/5\n",
      "938/938 [==============================] - 8s 7ms/step - loss: 1.0585 - accuracy: 0.7415 - val_loss: 0.4506 - val_accuracy: 0.8370\n",
      "Epoch 2/5\n",
      "938/938 [==============================] - 6s 6ms/step - loss: 0.3903 - accuracy: 0.8586 - val_loss: 0.3934 - val_accuracy: 0.8560\n",
      "Epoch 3/5\n",
      "938/938 [==============================] - 6s 7ms/step - loss: 0.3432 - accuracy: 0.8740 - val_loss: 0.3707 - val_accuracy: 0.8691\n",
      "Epoch 4/5\n",
      "938/938 [==============================] - 5s 6ms/step - loss: 0.3196 - accuracy: 0.8841 - val_loss: 0.3571 - val_accuracy: 0.8753\n",
      "Epoch 5/5\n",
      "938/938 [==============================] - 5s 5ms/step - loss: 0.2999 - accuracy: 0.8895 - val_loss: 0.3618 - val_accuracy: 0.8745\n",
      "313/313 [==============================] - 1s 4ms/step - loss: 0.3618 - accuracy: 0.8745\n",
      "Epoch 1/5\n",
      "938/938 [==============================] - 6s 6ms/step - loss: 0.6012 - accuracy: 0.7796 - val_loss: 0.4381 - val_accuracy: 0.8395\n",
      "Epoch 2/5\n",
      "938/938 [==============================] - 6s 6ms/step - loss: 0.3809 - accuracy: 0.8618 - val_loss: 0.3920 - val_accuracy: 0.8594\n",
      "Epoch 3/5\n",
      "938/938 [==============================] - 6s 7ms/step - loss: 0.3442 - accuracy: 0.8730 - val_loss: 0.3903 - val_accuracy: 0.8581\n",
      "Epoch 4/5\n",
      "938/938 [==============================] - 5s 6ms/step - loss: 0.3150 - accuracy: 0.8839 - val_loss: 0.3625 - val_accuracy: 0.8689\n",
      "Epoch 5/5\n",
      "938/938 [==============================] - 5s 6ms/step - loss: 0.3006 - accuracy: 0.8887 - val_loss: 0.3498 - val_accuracy: 0.8742\n",
      "313/313 [==============================] - 1s 4ms/step - loss: 0.3498 - accuracy: 0.8742\n",
      "Epoch 1/5\n",
      "938/938 [==============================] - 6s 6ms/step - loss: 0.8406 - accuracy: 0.6677 - val_loss: 0.5943 - val_accuracy: 0.7913\n",
      "Epoch 2/5\n",
      "938/938 [==============================] - 5s 6ms/step - loss: 0.4882 - accuracy: 0.8243 - val_loss: 0.5119 - val_accuracy: 0.8173\n",
      "Epoch 3/5\n",
      "938/938 [==============================] - 5s 6ms/step - loss: 0.4022 - accuracy: 0.8545 - val_loss: 0.4721 - val_accuracy: 0.8356\n",
      "Epoch 4/5\n",
      "938/938 [==============================] - 5s 6ms/step - loss: 0.3591 - accuracy: 0.8709 - val_loss: 0.3789 - val_accuracy: 0.8647\n",
      "Epoch 5/5\n",
      "938/938 [==============================] - 5s 5ms/step - loss: 0.3337 - accuracy: 0.8786 - val_loss: 0.3679 - val_accuracy: 0.8696\n",
      "313/313 [==============================] - 1s 3ms/step - loss: 0.3679 - accuracy: 0.8696\n",
      "Epoch 1/5\n",
      "938/938 [==============================] - 6s 6ms/step - loss: 1.5512 - accuracy: 0.3918 - val_loss: 1.0727 - val_accuracy: 0.5953\n",
      "Epoch 2/5\n",
      "938/938 [==============================] - 5s 5ms/step - loss: 0.7742 - accuracy: 0.7117 - val_loss: 0.6379 - val_accuracy: 0.7717\n",
      "Epoch 3/5\n",
      "938/938 [==============================] - 5s 6ms/step - loss: 0.5199 - accuracy: 0.8119 - val_loss: 0.5475 - val_accuracy: 0.8154\n",
      "Epoch 4/5\n",
      "938/938 [==============================] - 5s 5ms/step - loss: 0.4472 - accuracy: 0.8413 - val_loss: 0.4722 - val_accuracy: 0.8364\n",
      "Epoch 5/5\n",
      "938/938 [==============================] - 5s 6ms/step - loss: 0.3999 - accuracy: 0.8569 - val_loss: 0.4350 - val_accuracy: 0.8461\n",
      "313/313 [==============================] - 1s 4ms/step - loss: 0.4350 - accuracy: 0.8461\n",
      "Epoch 1/5\n",
      "938/938 [==============================] - 6s 6ms/step - loss: 1.5686 - accuracy: 0.3729 - val_loss: 1.0323 - val_accuracy: 0.6237\n",
      "Epoch 2/5\n",
      "938/938 [==============================] - 5s 5ms/step - loss: 0.7788 - accuracy: 0.7280 - val_loss: 0.6354 - val_accuracy: 0.7555\n",
      "Epoch 3/5\n",
      "938/938 [==============================] - 5s 5ms/step - loss: 0.5102 - accuracy: 0.8148 - val_loss: 0.4775 - val_accuracy: 0.8361\n",
      "Epoch 4/5\n",
      "938/938 [==============================] - 6s 7ms/step - loss: 0.4169 - accuracy: 0.8562 - val_loss: 0.4304 - val_accuracy: 0.8589\n",
      "Epoch 5/5\n",
      "938/938 [==============================] - 6s 6ms/step - loss: 0.3768 - accuracy: 0.8662 - val_loss: 0.4164 - val_accuracy: 0.8566\n",
      "313/313 [==============================] - 1s 4ms/step - loss: 0.4164 - accuracy: 0.8566\n",
      "Epoch 1/5\n",
      "938/938 [==============================] - 5s 5ms/step - loss: 1.6640 - accuracy: 0.3192 - val_loss: 1.1958 - val_accuracy: 0.4802\n",
      "Epoch 2/5\n",
      "938/938 [==============================] - 4s 5ms/step - loss: 0.9722 - accuracy: 0.6385 - val_loss: 0.6944 - val_accuracy: 0.7594\n",
      "Epoch 3/5\n",
      "938/938 [==============================] - 4s 5ms/step - loss: 0.5481 - accuracy: 0.8057 - val_loss: 0.5149 - val_accuracy: 0.8255\n",
      "Epoch 4/5\n",
      "938/938 [==============================] - 4s 5ms/step - loss: 0.4512 - accuracy: 0.8438 - val_loss: 0.4661 - val_accuracy: 0.8385\n",
      "Epoch 5/5\n",
      "938/938 [==============================] - 4s 5ms/step - loss: 0.4102 - accuracy: 0.8558 - val_loss: 0.4419 - val_accuracy: 0.8478\n",
      "313/313 [==============================] - 1s 3ms/step - loss: 0.4419 - accuracy: 0.8478\n"
     ]
    }
   ],
   "source": [
    "for threshold in thresholds:\n",
    "    pruned_model = prune_weights(model, threshold)\n",
    "    pruned_model.compile(optimizer='adam', loss='sparse_categorical_crossentropy', metrics=['accuracy'])\n",
    "    pruned_model.fit(x_train, y_train, epochs=5, batch_size=64, validation_data=(x_test, y_test))\n",
    "    loss, accuracy = pruned_model.evaluate(x_test, y_test)\n",
    "    performance.append(accuracy)"
   ]
  },
  {
   "cell_type": "code",
   "execution_count": 17,
   "id": "f113fbf4",
   "metadata": {},
   "outputs": [
    {
     "name": "stdout",
     "output_type": "stream",
     "text": [
      "[['Threshold: -0.1, Accuracy: 0.8759999871253967'], ['Threshold: -0.2, Accuracy: 0.8837000131607056'], ['Threshold: -0.3, Accuracy: 0.8835999965667725'], ['Threshold: -0.5, Accuracy: 0.8841000199317932'], ['Threshold: -0.7, Accuracy: 0.8823999762535095'], ['Threshold: -1, Accuracy: 0.8791999816894531'], ['Threshold: 0.0, Accuracy: 0.8671000003814697'], ['Threshold: 0.1, Accuracy: 0.8744999766349792'], ['Threshold: 0.2, Accuracy: 0.8741999864578247'], ['Threshold: 0.3, Accuracy: 0.8695999979972839'], ['Threshold: 0.5, Accuracy: 0.8460999727249146'], ['Threshold: 0.7, Accuracy: 0.8565999865531921'], ['Threshold: 1, Accuracy: 0.8478000164031982']]\n"
     ]
    }
   ],
   "source": [
    "acc_on_t = []\n",
    "\n",
    "for threshold, acc in zip(thresholds, performance):\n",
    "    ind = []\n",
    "    ind.append(f'Threshold: {threshold}, Accuracy: {acc}')\n",
    "    acc_on_t.append(ind)\n",
    "print(acc_on_t)"
   ]
  },
  {
   "cell_type": "code",
   "execution_count": null,
   "id": "d4febd4d",
   "metadata": {},
   "outputs": [],
   "source": []
  },
  {
   "cell_type": "code",
   "execution_count": null,
   "id": "4e5adbaa",
   "metadata": {},
   "outputs": [],
   "source": []
  }
 ],
 "metadata": {
  "kernelspec": {
   "display_name": "Python 3 (ipykernel)",
   "language": "python",
   "name": "python3"
  },
  "language_info": {
   "codemirror_mode": {
    "name": "ipython",
    "version": 3
   },
   "file_extension": ".py",
   "mimetype": "text/x-python",
   "name": "python",
   "nbconvert_exporter": "python",
   "pygments_lexer": "ipython3",
   "version": "3.10.2"
  }
 },
 "nbformat": 4,
 "nbformat_minor": 5
}
