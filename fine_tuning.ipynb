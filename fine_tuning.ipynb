{
 "cells": [
  {
   "cell_type": "code",
   "execution_count": 2,
   "metadata": {},
   "outputs": [],
   "source": [
    "import tensorflow as tf\n",
    "from tensorflow.keras.datasets import fashion_mnist\n",
    "\n",
    "import numpy as np"
   ]
  },
  {
   "cell_type": "code",
   "execution_count": 3,
   "metadata": {},
   "outputs": [],
   "source": [
    "(x_train, y_train), (x_test, y_test) = fashion_mnist.load_data()"
   ]
  },
  {
   "cell_type": "code",
   "execution_count": 4,
   "metadata": {},
   "outputs": [],
   "source": [
    "x_train = x_train.reshape(-1, 784) / 255.0  \n",
    "x_test = x_test.reshape(-1, 784) / 255.0"
   ]
  },
  {
   "cell_type": "code",
   "execution_count": 5,
   "metadata": {},
   "outputs": [],
   "source": [
    "\n",
    "y_train = tf.keras.utils.to_categorical(y_train, num_classes=10)\n",
    "y_test = tf.keras.utils.to_categorical(y_test, num_classes=10)\n"
   ]
  },
  {
   "cell_type": "code",
   "execution_count": 6,
   "metadata": {},
   "outputs": [
    {
     "data": {
      "text/plain": [
       "10"
      ]
     },
     "execution_count": 6,
     "metadata": {},
     "output_type": "execute_result"
    }
   ],
   "source": [
    "len(y_train[0])"
   ]
  },
  {
   "cell_type": "code",
   "execution_count": 7,
   "metadata": {},
   "outputs": [],
   "source": [
    "model = tf.keras.models.Sequential([\n",
    "    tf.keras.layers.Dense(256, activation='relu', input_shape=(784,)),\n",
    "    tf.keras.layers.Dense(128, activation='relu'),\n",
    "    tf.keras.layers.Dense(64, activation='relu'),\n",
    "    tf.keras.layers.Dense(10, activation='softmax')\n",
    "])"
   ]
  },
  {
   "cell_type": "code",
   "execution_count": 8,
   "metadata": {},
   "outputs": [
    {
     "name": "stdout",
     "output_type": "stream",
     "text": [
      "Epoch 1/10\n",
      "1875/1875 [==============================] - 7s 3ms/step - loss: 0.0261 - accuracy: 0.8175 - val_loss: 0.0218 - val_accuracy: 0.8490\n",
      "Epoch 2/10\n",
      "1875/1875 [==============================] - 6s 3ms/step - loss: 0.0198 - accuracy: 0.8626 - val_loss: 0.0206 - val_accuracy: 0.8582\n",
      "Epoch 3/10\n",
      "1875/1875 [==============================] - 9s 5ms/step - loss: 0.0180 - accuracy: 0.8759 - val_loss: 0.0203 - val_accuracy: 0.8605\n",
      "Epoch 4/10\n",
      "1875/1875 [==============================] - 9s 5ms/step - loss: 0.0171 - accuracy: 0.8828 - val_loss: 0.0221 - val_accuracy: 0.8483\n",
      "Epoch 5/10\n",
      "1875/1875 [==============================] - 5s 3ms/step - loss: 0.0162 - accuracy: 0.8893 - val_loss: 0.0183 - val_accuracy: 0.8738\n",
      "Epoch 6/10\n",
      "1875/1875 [==============================] - 4s 2ms/step - loss: 0.0155 - accuracy: 0.8940 - val_loss: 0.0190 - val_accuracy: 0.8697\n",
      "Epoch 7/10\n",
      "1875/1875 [==============================] - 4s 2ms/step - loss: 0.0150 - accuracy: 0.8973 - val_loss: 0.0182 - val_accuracy: 0.8753\n",
      "Epoch 8/10\n",
      "1875/1875 [==============================] - 4s 2ms/step - loss: 0.0144 - accuracy: 0.8999 - val_loss: 0.0177 - val_accuracy: 0.8772\n",
      "Epoch 9/10\n",
      "1875/1875 [==============================] - 4s 2ms/step - loss: 0.0140 - accuracy: 0.9041 - val_loss: 0.0185 - val_accuracy: 0.8721\n",
      "Epoch 10/10\n",
      "1875/1875 [==============================] - 4s 2ms/step - loss: 0.0135 - accuracy: 0.9080 - val_loss: 0.0172 - val_accuracy: 0.8835\n"
     ]
    },
    {
     "data": {
      "text/plain": [
       "<keras.callbacks.History at 0x1f9d4f16a40>"
      ]
     },
     "execution_count": 8,
     "metadata": {},
     "output_type": "execute_result"
    }
   ],
   "source": [
    "model.compile(optimizer='adam',loss='mean_squared_error',metrics=['accuracy'])\n",
    "model.fit(x_train,y_train,epochs=10,validation_data=(x_test,y_test))\n"
   ]
  },
  {
   "cell_type": "code",
   "execution_count": 9,
   "metadata": {},
   "outputs": [],
   "source": [
    "loss = tf.keras.losses.MeanSquaredError()\n",
    "opti = tf.keras.optimizers.Adam(learning_rate=0.001)\n",
    "# model.get_weights()"
   ]
  },
  {
   "cell_type": "code",
   "execution_count": 10,
   "metadata": {},
   "outputs": [],
   "source": [
    "thresholds = [0.1 , 0.2, 0.3, 0.4, 0.5]\n",
    "accu = []"
   ]
  },
  {
   "cell_type": "code",
   "execution_count": 11,
   "metadata": {},
   "outputs": [
    {
     "name": "stdout",
     "output_type": "stream",
     "text": [
      "313/313 [==============================] - 1s 2ms/step - loss: 0.0162 - accuracy: 0.8899\n",
      "313/313 [==============================] - 1s 2ms/step - loss: 0.0307 - accuracy: 0.8246\n",
      "313/313 [==============================] - 1s 3ms/step - loss: 0.0850 - accuracy: 0.2583\n",
      "313/313 [==============================] - 0s 1ms/step - loss: 0.0898 - accuracy: 0.0962\n",
      "313/313 [==============================] - 1s 2ms/step - loss: 0.0900 - accuracy: 0.1000\n"
     ]
    },
    {
     "data": {
      "text/plain": [
       "['Threshold: 0.1, Accuracy: 0.8899000287055969',\n",
       " 'Threshold: 0.2, Accuracy: 0.8245999813079834',\n",
       " 'Threshold: 0.3, Accuracy: 0.2583000063896179',\n",
       " 'Threshold: 0.4, Accuracy: 0.09619999676942825',\n",
       " 'Threshold: 0.5, Accuracy: 0.10000000149011612']"
      ]
     },
     "execution_count": 11,
     "metadata": {},
     "output_type": "execute_result"
    }
   ],
   "source": [
    "    \n",
    "\n",
    "\n",
    "for threshold in thresholds :\n",
    "\n",
    "    num_epochs = 10\n",
    "    for epoch in range(num_epochs):\n",
    "        # pruning mask\n",
    "        initial_weights = model.get_weights()\n",
    "        pruning_mask = []\n",
    "    \n",
    "    \n",
    "        for weights in model.get_weights() :\n",
    "            mask = abs(weights) > threshold\n",
    "            pruning_mask.append(mask.astype(np.float32))\n",
    "    \n",
    "        pruned_weights = [w*mask for w,mask in zip(initial_weights,pruning_mask)]\n",
    "        model.set_weights(pruned_weights)\n",
    "        \n",
    "        with tf.GradientTape() as tape:\n",
    "            # Forward pass\n",
    "            outputs = model(x_train)\n",
    "            loss_value = loss(outputs, y_train)\n",
    "        \n",
    "    \n",
    "        # Backward pass and weight update\n",
    "        gradients = tape.gradient(loss_value, model.trainable_variables)\n",
    "        opti.apply_gradients(zip(gradients, model.trainable_variables))\n",
    "    \n",
    "    _ , acc = model.evaluate(x_test,y_test)\n",
    "    accu.append(f'Threshold: {threshold}, Accuracy: {acc}')\n",
    "\n",
    "accu\n",
    "\n",
    "\n",
    "\n"
   ]
  }
 ],
 "metadata": {
  "kernelspec": {
   "display_name": "Python 3",
   "language": "python",
   "name": "python3"
  },
  "language_info": {
   "codemirror_mode": {
    "name": "ipython",
    "version": 3
   },
   "file_extension": ".py",
   "mimetype": "text/x-python",
   "name": "python",
   "nbconvert_exporter": "python",
   "pygments_lexer": "ipython3",
   "version": "3.10.2"
  },
  "orig_nbformat": 4
 },
 "nbformat": 4,
 "nbformat_minor": 2
}
