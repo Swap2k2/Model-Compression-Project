{
 "cells": [
  {
   "cell_type": "code",
   "execution_count": 1,
   "id": "caccf388",
   "metadata": {},
   "outputs": [],
   "source": [
    "import tensorflow as tf\n",
    "from tensorflow.keras.datasets import mnist, fashion_mnist\n",
    "\n",
    "import numpy as np"
   ]
  },
  {
   "cell_type": "code",
   "execution_count": 2,
   "id": "82171f1b",
   "metadata": {},
   "outputs": [],
   "source": [
    "(x_train, y_train), (x_test, y_test) = mnist.load_data()"
   ]
  },
  {
   "cell_type": "code",
   "execution_count": 3,
   "id": "174abedb",
   "metadata": {},
   "outputs": [
    {
     "data": {
      "text/plain": [
       "(60000, 28, 28)"
      ]
     },
     "execution_count": 3,
     "metadata": {},
     "output_type": "execute_result"
    }
   ],
   "source": [
    "x_train.shape"
   ]
  },
  {
   "cell_type": "code",
   "execution_count": 4,
   "id": "b27be324",
   "metadata": {},
   "outputs": [],
   "source": [
    "x_train = x_train.reshape(-1, 784) / 255.0  \n",
    "x_test = x_test.reshape(-1, 784) / 255.0"
   ]
  },
  {
   "cell_type": "code",
   "execution_count": 5,
   "id": "86d7d18d",
   "metadata": {},
   "outputs": [],
   "source": [
    "model = tf.keras.models.Sequential([\n",
    "    tf.keras.layers.Dense(256, activation='relu', input_shape=(784,)),\n",
    "    tf.keras.layers.Dense(128, activation='relu'),\n",
    "    tf.keras.layers.Dense(64, activation='relu'),\n",
    "    tf.keras.layers.Dense(32, activation='relu'),\n",
    "    tf.keras.layers.Dense(10, activation='softmax')\n",
    "])"
   ]
  },
  {
   "cell_type": "code",
   "execution_count": 6,
   "id": "e241b391",
   "metadata": {},
   "outputs": [],
   "source": [
    "model.compile(optimizer='adam', loss='sparse_categorical_crossentropy', metrics=['accuracy'])"
   ]
  },
  {
   "cell_type": "code",
   "execution_count": 7,
   "id": "684ff1de",
   "metadata": {},
   "outputs": [
    {
     "data": {
      "text/plain": [
       "256"
      ]
     },
     "execution_count": 7,
     "metadata": {},
     "output_type": "execute_result"
    }
   ],
   "source": [
    "layer = model.layers[0]\n",
    "len(layer.get_weights()[0][0])"
   ]
  },
  {
   "cell_type": "code",
   "execution_count": 8,
   "id": "ab66591a",
   "metadata": {},
   "outputs": [
    {
     "name": "stdout",
     "output_type": "stream",
     "text": [
      "Epoch 1/5\n",
      "938/938 [==============================] - 9s 7ms/step - loss: 0.2609 - accuracy: 0.9222 - val_loss: 0.1298 - val_accuracy: 0.9593\n",
      "Epoch 2/5\n",
      "938/938 [==============================] - 5s 6ms/step - loss: 0.0983 - accuracy: 0.9697 - val_loss: 0.1008 - val_accuracy: 0.9702\n",
      "Epoch 3/5\n",
      "938/938 [==============================] - 5s 6ms/step - loss: 0.0684 - accuracy: 0.9785 - val_loss: 0.0880 - val_accuracy: 0.9704\n",
      "Epoch 4/5\n",
      "938/938 [==============================] - 6s 6ms/step - loss: 0.0493 - accuracy: 0.9845 - val_loss: 0.0765 - val_accuracy: 0.9765\n",
      "Epoch 5/5\n",
      "938/938 [==============================] - 6s 6ms/step - loss: 0.0416 - accuracy: 0.9865 - val_loss: 0.0753 - val_accuracy: 0.9776\n"
     ]
    },
    {
     "data": {
      "text/plain": [
       "<keras.callbacks.History at 0x192bf9d76d0>"
      ]
     },
     "execution_count": 8,
     "metadata": {},
     "output_type": "execute_result"
    }
   ],
   "source": [
    "model.fit(x_train, y_train, epochs=5, batch_size=64, validation_data=(x_test, y_test))"
   ]
  },
  {
   "cell_type": "code",
   "execution_count": 9,
   "id": "49594392",
   "metadata": {},
   "outputs": [
    {
     "data": {
      "text/plain": [
       "256"
      ]
     },
     "execution_count": 9,
     "metadata": {},
     "output_type": "execute_result"
    }
   ],
   "source": [
    "len(model.get_weights()[0][0])                                                 "
   ]
  },
  {
   "cell_type": "code",
   "execution_count": 10,
   "id": "a40498b0",
   "metadata": {},
   "outputs": [],
   "source": [
    "def prune_weights(model, threshold):\n",
    "    pruned_model = tf.keras.models.clone_model(model)\n",
    "    pruned_model.set_weights(model.get_weights())  # Copy the original weights\n",
    "\n",
    "    # Prune the weights below the threshold\n",
    "    for layer in pruned_model.layers:\n",
    "        if isinstance(layer, tf.keras.layers.Dense):\n",
    "            weights = layer.get_weights()\n",
    "            weights[0][weights[0] < threshold] = 0.0  # Prune weights below threshold\n",
    "            layer.set_weights(weights)\n",
    "    \n",
    "    return pruned_model\n"
   ]
  },
  {
   "cell_type": "code",
   "execution_count": null,
   "id": "328d9243",
   "metadata": {},
   "outputs": [],
   "source": []
  },
  {
   "cell_type": "code",
   "execution_count": 11,
   "id": "06eb65ae",
   "metadata": {},
   "outputs": [],
   "source": [
    "\n",
    "thresholds = [ -0.1, -0.2, -0.3, -0.5, -0.7,-1,0.0, 0.1, 0.2, 0.3, 0.5, 0.7,1]\n",
    "performance = []"
   ]
  },
  {
   "cell_type": "code",
   "execution_count": 12,
   "id": "b11c1524",
   "metadata": {},
   "outputs": [
    {
     "name": "stdout",
     "output_type": "stream",
     "text": [
      "Epoch 1/5\n",
      "938/938 [==============================] - 13s 12ms/step - loss: 0.7513 - accuracy: 0.9307 - val_loss: 0.1038 - val_accuracy: 0.9683\n",
      "Epoch 2/5\n",
      "938/938 [==============================] - 7s 7ms/step - loss: 0.0682 - accuracy: 0.9796 - val_loss: 0.0841 - val_accuracy: 0.9746\n",
      "Epoch 3/5\n",
      "938/938 [==============================] - 6s 6ms/step - loss: 0.0465 - accuracy: 0.9857 - val_loss: 0.0862 - val_accuracy: 0.9723\n",
      "Epoch 4/5\n",
      "938/938 [==============================] - 6s 6ms/step - loss: 0.0383 - accuracy: 0.9876 - val_loss: 0.0901 - val_accuracy: 0.9732\n",
      "Epoch 5/5\n",
      "938/938 [==============================] - 6s 6ms/step - loss: 0.0324 - accuracy: 0.9895 - val_loss: 0.0959 - val_accuracy: 0.9732\n",
      "313/313 [==============================] - 1s 4ms/step - loss: 0.0959 - accuracy: 0.9732\n",
      "Epoch 1/5\n",
      "938/938 [==============================] - 9s 7ms/step - loss: 0.0628 - accuracy: 0.9800 - val_loss: 0.0835 - val_accuracy: 0.9736\n",
      "Epoch 2/5\n",
      "938/938 [==============================] - 6s 6ms/step - loss: 0.0364 - accuracy: 0.9882 - val_loss: 0.0847 - val_accuracy: 0.9748\n",
      "Epoch 3/5\n",
      "938/938 [==============================] - 6s 6ms/step - loss: 0.0296 - accuracy: 0.9904 - val_loss: 0.0771 - val_accuracy: 0.9783\n",
      "Epoch 4/5\n",
      "938/938 [==============================] - 5s 6ms/step - loss: 0.0252 - accuracy: 0.9922 - val_loss: 0.0862 - val_accuracy: 0.9789\n",
      "Epoch 5/5\n",
      "938/938 [==============================] - 6s 7ms/step - loss: 0.0234 - accuracy: 0.9925 - val_loss: 0.0875 - val_accuracy: 0.9780\n",
      "313/313 [==============================] - 1s 4ms/step - loss: 0.0875 - accuracy: 0.9780\n",
      "Epoch 1/5\n",
      "938/938 [==============================] - 10s 8ms/step - loss: 0.0416 - accuracy: 0.9863 - val_loss: 0.0863 - val_accuracy: 0.9747\n",
      "Epoch 2/5\n",
      "938/938 [==============================] - 6s 6ms/step - loss: 0.0297 - accuracy: 0.9907 - val_loss: 0.0863 - val_accuracy: 0.9773\n",
      "Epoch 3/5\n",
      "938/938 [==============================] - 5s 6ms/step - loss: 0.0275 - accuracy: 0.9913 - val_loss: 0.0888 - val_accuracy: 0.9765\n",
      "Epoch 4/5\n",
      "938/938 [==============================] - 5s 6ms/step - loss: 0.0221 - accuracy: 0.9930 - val_loss: 0.0804 - val_accuracy: 0.9793\n",
      "Epoch 5/5\n",
      "938/938 [==============================] - 5s 5ms/step - loss: 0.0197 - accuracy: 0.9938 - val_loss: 0.0858 - val_accuracy: 0.9792\n",
      "313/313 [==============================] - 1s 4ms/step - loss: 0.0858 - accuracy: 0.9792\n",
      "Epoch 1/5\n",
      "938/938 [==============================] - 6s 6ms/step - loss: 0.0369 - accuracy: 0.9883 - val_loss: 0.0861 - val_accuracy: 0.9769\n",
      "Epoch 2/5\n",
      "938/938 [==============================] - 6s 6ms/step - loss: 0.0305 - accuracy: 0.9901 - val_loss: 0.0815 - val_accuracy: 0.9772\n",
      "Epoch 3/5\n",
      "938/938 [==============================] - 6s 7ms/step - loss: 0.0257 - accuracy: 0.9916 - val_loss: 0.0968 - val_accuracy: 0.9748\n",
      "Epoch 4/5\n",
      "938/938 [==============================] - 6s 6ms/step - loss: 0.0203 - accuracy: 0.9932 - val_loss: 0.0854 - val_accuracy: 0.9785\n",
      "Epoch 5/5\n",
      "938/938 [==============================] - 5s 5ms/step - loss: 0.0190 - accuracy: 0.9942 - val_loss: 0.0931 - val_accuracy: 0.9788\n",
      "313/313 [==============================] - 2s 5ms/step - loss: 0.0931 - accuracy: 0.9788\n",
      "Epoch 1/5\n",
      "938/938 [==============================] - 9s 8ms/step - loss: 0.0370 - accuracy: 0.9882 - val_loss: 0.0943 - val_accuracy: 0.9735\n",
      "Epoch 2/5\n",
      "938/938 [==============================] - 6s 6ms/step - loss: 0.0288 - accuracy: 0.9909 - val_loss: 0.0847 - val_accuracy: 0.9791\n",
      "Epoch 3/5\n",
      "938/938 [==============================] - 6s 7ms/step - loss: 0.0252 - accuracy: 0.9921 - val_loss: 0.0860 - val_accuracy: 0.9793\n",
      "Epoch 4/5\n",
      "938/938 [==============================] - 6s 6ms/step - loss: 0.0209 - accuracy: 0.9933 - val_loss: 0.0805 - val_accuracy: 0.9786\n",
      "Epoch 5/5\n",
      "938/938 [==============================] - 5s 6ms/step - loss: 0.0190 - accuracy: 0.9940 - val_loss: 0.0909 - val_accuracy: 0.9789\n",
      "313/313 [==============================] - 1s 3ms/step - loss: 0.0909 - accuracy: 0.9789\n",
      "Epoch 1/5\n",
      "938/938 [==============================] - 8s 7ms/step - loss: 0.0369 - accuracy: 0.9881 - val_loss: 0.0755 - val_accuracy: 0.9776\n",
      "Epoch 2/5\n",
      "938/938 [==============================] - 6s 7ms/step - loss: 0.0284 - accuracy: 0.9908 - val_loss: 0.0845 - val_accuracy: 0.9763\n",
      "Epoch 3/5\n",
      "938/938 [==============================] - 6s 6ms/step - loss: 0.0249 - accuracy: 0.9919 - val_loss: 0.0842 - val_accuracy: 0.9777\n",
      "Epoch 4/5\n",
      "938/938 [==============================] - 6s 6ms/step - loss: 0.0216 - accuracy: 0.9931 - val_loss: 0.0996 - val_accuracy: 0.9759\n",
      "Epoch 5/5\n",
      "938/938 [==============================] - 5s 6ms/step - loss: 0.0185 - accuracy: 0.9939 - val_loss: 0.0943 - val_accuracy: 0.9768\n",
      "313/313 [==============================] - 1s 3ms/step - loss: 0.0943 - accuracy: 0.9768\n",
      "Epoch 1/5\n",
      "938/938 [==============================] - 7s 6ms/step - loss: 4.3836 - accuracy: 0.8781 - val_loss: 0.2033 - val_accuracy: 0.9477\n",
      "Epoch 2/5\n",
      "938/938 [==============================] - 5s 6ms/step - loss: 0.1537 - accuracy: 0.9593 - val_loss: 0.1292 - val_accuracy: 0.9640\n",
      "Epoch 3/5\n",
      "938/938 [==============================] - 5s 6ms/step - loss: 0.0980 - accuracy: 0.9737 - val_loss: 0.1006 - val_accuracy: 0.9690\n",
      "Epoch 4/5\n",
      "938/938 [==============================] - 5s 6ms/step - loss: 0.0704 - accuracy: 0.9798 - val_loss: 0.0835 - val_accuracy: 0.9743\n",
      "Epoch 5/5\n",
      "938/938 [==============================] - 5s 6ms/step - loss: 0.0527 - accuracy: 0.9848 - val_loss: 0.0814 - val_accuracy: 0.9753\n",
      "313/313 [==============================] - 1s 3ms/step - loss: 0.0814 - accuracy: 0.9753\n",
      "Epoch 1/5\n",
      "938/938 [==============================] - 7s 6ms/step - loss: 0.8577 - accuracy: 0.8637 - val_loss: 0.1441 - val_accuracy: 0.9584\n",
      "Epoch 2/5\n",
      "938/938 [==============================] - 5s 5ms/step - loss: 0.1127 - accuracy: 0.9663 - val_loss: 0.1119 - val_accuracy: 0.9629\n",
      "Epoch 3/5\n",
      "938/938 [==============================] - 6s 6ms/step - loss: 0.0738 - accuracy: 0.9771 - val_loss: 0.0893 - val_accuracy: 0.9732\n",
      "Epoch 4/5\n",
      "938/938 [==============================] - 5s 6ms/step - loss: 0.0545 - accuracy: 0.9822 - val_loss: 0.0781 - val_accuracy: 0.9768\n",
      "Epoch 5/5\n",
      "938/938 [==============================] - 5s 6ms/step - loss: 0.0427 - accuracy: 0.9861 - val_loss: 0.0844 - val_accuracy: 0.9749\n",
      "313/313 [==============================] - 1s 3ms/step - loss: 0.0844 - accuracy: 0.9749\n",
      "Epoch 1/5\n",
      "938/938 [==============================] - 7s 6ms/step - loss: 0.3113 - accuracy: 0.9052 - val_loss: 0.1333 - val_accuracy: 0.9594\n",
      "Epoch 2/5\n",
      "938/938 [==============================] - 6s 6ms/step - loss: 0.1105 - accuracy: 0.9668 - val_loss: 0.0980 - val_accuracy: 0.9694\n",
      "Epoch 3/5\n",
      "938/938 [==============================] - 5s 6ms/step - loss: 0.0761 - accuracy: 0.9765 - val_loss: 0.0854 - val_accuracy: 0.9722\n",
      "Epoch 4/5\n",
      "938/938 [==============================] - 4s 4ms/step - loss: 0.0590 - accuracy: 0.9815 - val_loss: 0.0817 - val_accuracy: 0.9756\n",
      "Epoch 5/5\n",
      "938/938 [==============================] - 3s 3ms/step - loss: 0.0462 - accuracy: 0.9850 - val_loss: 0.0760 - val_accuracy: 0.9785\n",
      "313/313 [==============================] - 1s 2ms/step - loss: 0.0760 - accuracy: 0.9785\n",
      "Epoch 1/5\n",
      "938/938 [==============================] - 5s 5ms/step - loss: 0.7127 - accuracy: 0.7554 - val_loss: 0.2897 - val_accuracy: 0.9152\n",
      "Epoch 2/5\n",
      "938/938 [==============================] - 3s 3ms/step - loss: 0.2300 - accuracy: 0.9339 - val_loss: 0.1736 - val_accuracy: 0.9504\n",
      "Epoch 3/5\n",
      "938/938 [==============================] - 4s 4ms/step - loss: 0.1465 - accuracy: 0.9574 - val_loss: 0.1319 - val_accuracy: 0.9609\n",
      "Epoch 4/5\n",
      "938/938 [==============================] - 4s 4ms/step - loss: 0.1083 - accuracy: 0.9683 - val_loss: 0.1192 - val_accuracy: 0.9635\n",
      "Epoch 5/5\n",
      "938/938 [==============================] - 4s 4ms/step - loss: 0.0849 - accuracy: 0.9743 - val_loss: 0.1203 - val_accuracy: 0.9641\n",
      "313/313 [==============================] - 1s 2ms/step - loss: 0.1203 - accuracy: 0.9641\n",
      "Epoch 1/5\n",
      "938/938 [==============================] - 6s 6ms/step - loss: 1.8448 - accuracy: 0.2287 - val_loss: 1.6414 - val_accuracy: 0.3134\n",
      "Epoch 2/5\n",
      "938/938 [==============================] - 4s 5ms/step - loss: 1.5407 - accuracy: 0.3220 - val_loss: 1.3848 - val_accuracy: 0.3910\n",
      "Epoch 3/5\n",
      "938/938 [==============================] - 5s 5ms/step - loss: 0.9126 - accuracy: 0.6703 - val_loss: 0.5582 - val_accuracy: 0.8419\n",
      "Epoch 4/5\n",
      "938/938 [==============================] - 5s 5ms/step - loss: 0.3407 - accuracy: 0.9240 - val_loss: 0.2612 - val_accuracy: 0.9483\n",
      "Epoch 5/5\n",
      "938/938 [==============================] - 4s 4ms/step - loss: 0.1738 - accuracy: 0.9567 - val_loss: 0.2100 - val_accuracy: 0.9555\n",
      "313/313 [==============================] - 1s 3ms/step - loss: 0.2100 - accuracy: 0.9555\n",
      "Epoch 1/5\n",
      "938/938 [==============================] - 5s 5ms/step - loss: 1.8156 - accuracy: 0.2583 - val_loss: 1.6675 - val_accuracy: 0.3767\n",
      "Epoch 2/5\n",
      "938/938 [==============================] - 4s 4ms/step - loss: 1.5710 - accuracy: 0.3765 - val_loss: 1.4842 - val_accuracy: 0.4006\n",
      "Epoch 3/5\n",
      "938/938 [==============================] - 4s 4ms/step - loss: 0.9804 - accuracy: 0.6529 - val_loss: 0.7310 - val_accuracy: 0.7878\n",
      "Epoch 4/5\n",
      "938/938 [==============================] - 5s 5ms/step - loss: 0.5203 - accuracy: 0.8715 - val_loss: 0.4310 - val_accuracy: 0.9082\n",
      "Epoch 5/5\n",
      "938/938 [==============================] - 5s 6ms/step - loss: 0.2965 - accuracy: 0.9261 - val_loss: 0.3561 - val_accuracy: 0.9304\n",
      "313/313 [==============================] - 1s 3ms/step - loss: 0.3561 - accuracy: 0.9304\n",
      "Epoch 1/5\n",
      "938/938 [==============================] - 5s 5ms/step - loss: 1.8238 - accuracy: 0.2624 - val_loss: 1.6517 - val_accuracy: 0.3963\n",
      "Epoch 2/5\n",
      "938/938 [==============================] - 4s 4ms/step - loss: 1.4598 - accuracy: 0.4224 - val_loss: 1.0905 - val_accuracy: 0.5476\n",
      "Epoch 3/5\n",
      "938/938 [==============================] - 4s 5ms/step - loss: 0.8434 - accuracy: 0.7030 - val_loss: 0.5683 - val_accuracy: 0.8743\n",
      "Epoch 4/5\n",
      "938/938 [==============================] - 4s 4ms/step - loss: 0.4252 - accuracy: 0.9061 - val_loss: 0.3553 - val_accuracy: 0.9246\n",
      "Epoch 5/5\n",
      "938/938 [==============================] - 4s 4ms/step - loss: 0.2374 - accuracy: 0.9397 - val_loss: 0.2425 - val_accuracy: 0.9425\n",
      "313/313 [==============================] - 1s 3ms/step - loss: 0.2425 - accuracy: 0.9425\n"
     ]
    }
   ],
   "source": [
    "for threshold in thresholds:\n",
    "    pruned_model = prune_weights(model, threshold)\n",
    "    pruned_model.compile(optimizer='adam', loss='sparse_categorical_crossentropy', metrics=['accuracy'])\n",
    "    pruned_model.fit(x_train, y_train, epochs=5, batch_size=64, validation_data=(x_test, y_test))\n",
    "    loss, accuracy = pruned_model.evaluate(x_test, y_test)\n",
    "    performance.append(accuracy)"
   ]
  },
  {
   "cell_type": "code",
   "execution_count": 13,
   "id": "f113fbf4",
   "metadata": {},
   "outputs": [
    {
     "name": "stdout",
     "output_type": "stream",
     "text": [
      "[['Threshold: -0.1, Accuracy: 0.9732000231742859'], ['Threshold: -0.2, Accuracy: 0.9779999852180481'], ['Threshold: -0.3, Accuracy: 0.979200005531311'], ['Threshold: -0.5, Accuracy: 0.9787999987602234'], ['Threshold: -0.7, Accuracy: 0.9789000153541565'], ['Threshold: -1, Accuracy: 0.9768000245094299'], ['Threshold: 0.0, Accuracy: 0.9753000140190125'], ['Threshold: 0.1, Accuracy: 0.9749000072479248'], ['Threshold: 0.2, Accuracy: 0.9785000085830688'], ['Threshold: 0.3, Accuracy: 0.9641000032424927'], ['Threshold: 0.5, Accuracy: 0.9555000066757202'], ['Threshold: 0.7, Accuracy: 0.930400013923645'], ['Threshold: 1, Accuracy: 0.9424999952316284']]\n"
     ]
    }
   ],
   "source": [
    "acc_on_t = []\n",
    "\n",
    "for threshold, acc in zip(thresholds, performance):\n",
    "    ind = []\n",
    "    ind.append(f'Threshold: {threshold}, Accuracy: {acc}')\n",
    "    acc_on_t.append(ind)\n",
    "print(acc_on_t)"
   ]
  },
  {
   "cell_type": "code",
   "execution_count": null,
   "id": "d4febd4d",
   "metadata": {},
   "outputs": [],
   "source": []
  },
  {
   "cell_type": "code",
   "execution_count": null,
   "id": "4e5adbaa",
   "metadata": {},
   "outputs": [],
   "source": []
  }
 ],
 "metadata": {
  "kernelspec": {
   "display_name": "Python 3 (ipykernel)",
   "language": "python",
   "name": "python3"
  },
  "language_info": {
   "codemirror_mode": {
    "name": "ipython",
    "version": 3
   },
   "file_extension": ".py",
   "mimetype": "text/x-python",
   "name": "python",
   "nbconvert_exporter": "python",
   "pygments_lexer": "ipython3",
   "version": "3.10.2"
  }
 },
 "nbformat": 4,
 "nbformat_minor": 5
}
